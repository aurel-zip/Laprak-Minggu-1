{
  "nbformat": 4,
  "nbformat_minor": 0,
  "metadata": {
    "colab": {
      "provenance": []
    },
    "kernelspec": {
      "name": "python3",
      "display_name": "Python 3"
    },
    "language_info": {
      "name": "python"
    }
  },
  "cells": [
    {
      "cell_type": "markdown",
      "source": [
        "# Say hello to python"
      ],
      "metadata": {
        "id": "pWwGw2SwsvGg"
      }
    },
    {
      "cell_type": "code",
      "execution_count": null,
      "metadata": {
        "colab": {
          "base_uri": "https://localhost:8080/"
        },
        "id": "obunPJngq-f6",
        "outputId": "f72b9691-0ede-484f-ffca-b8f395f9b7f9"
      },
      "outputs": [
        {
          "output_type": "stream",
          "name": "stdout",
          "text": [
            "Hello, Python!\n"
          ]
        }
      ],
      "source": [
        "print('Hello, Python!')"
      ]
    },
    {
      "cell_type": "markdown",
      "source": [
        "# **Biodata**"
      ],
      "metadata": {
        "id": "QlzH-mJaxUMR"
      }
    },
    {
      "cell_type": "code",
      "source": [
        "# Menampilkan Biodata\n",
        "print('Nama               : Salwa Aurelia')\n",
        "print('NPM                : 2420506045')\n",
        "print('Program Studi      : Teknologi Informasi')\n",
        "print('Alamat             : Jl. Flores, Wates, Magelang, Jawa Tengah')\n",
        "print('Tinggi Badan       : 160 cm')\n",
        "print('Berat Badan        : 60')"
      ],
      "metadata": {
        "colab": {
          "base_uri": "https://localhost:8080/"
        },
        "id": "qbAafWVRxibw",
        "outputId": "588491f5-ee00-4354-d846-c4ec17de13ac"
      },
      "execution_count": null,
      "outputs": [
        {
          "output_type": "stream",
          "name": "stdout",
          "text": [
            "Nama               : Salwa Aurelia\n",
            "NPM                : 2420506045\n",
            "Program Studi      : Teknologi Informasi\n",
            "Alamat             : Jl. Flores, Wates, Magelang, Jawa Tengah\n",
            "Tinggi Badan       : 160 cm\n",
            "Berat Badan        : 60\n"
          ]
        }
      ]
    },
    {
      "cell_type": "markdown",
      "source": [
        "# **Latihan 2**"
      ],
      "metadata": {
        "id": "BQKPLU5w92Q0"
      }
    },
    {
      "cell_type": "code",
      "source": [
        "print('\\033[1m' + 'UNIVERSITAS TIDAR' + '\\033[0m')\n",
        "print('Universitas Tidar merupakan Perguruan Tinggi Pemerintah atau Perguruan Tinggi Negeri yang telah ditetapkan berdasarkan Peraturan Presiden Republik Indonesia Nomor 23 Tahun 2014 pada tanggal 1 April 2014')\n",
        "print(1 * \"\\n\")\n",
        "print('\\033[1m' + 'JURUSAN TEKNIK ELEKTRO, MEKATRONIKA, DAN INFORMASI' + '\\033[0m')\n",
        "print('Jurusan Teknik Elektro, mekatronika, dan Informasi terdiri atas tiga program studi, antara lain:')\n",
        "print('1. S1 Teknik Elektro \\x1b[3m(Bachelor of Electrical Engineering)\\x1b[0m')\n",
        "print('2. S1 Reknologi Informasi \\x1b[3m(Bachelor of Information Technology)\\x1b[0m')\n",
        "print('3. S1 Teknik Mekatronika \\x1b[3m(Bachelor of Mechatronics Engineering)\\x1b[0m')"
      ],
      "metadata": {
        "colab": {
          "base_uri": "https://localhost:8080/"
        },
        "id": "75KKydi4zMpC",
        "outputId": "e8f3e2ea-3415-46cb-c5da-76e085e5e8df"
      },
      "execution_count": null,
      "outputs": [
        {
          "output_type": "stream",
          "name": "stdout",
          "text": [
            "\u001b[1mUNIVERSITAS TIDAR\u001b[0m\n",
            "Universitas Tidar merupakan Perguruan Tinggi Pemerintah atau Perguruan Tinggi Negeri yang telah ditetapkan berdasarkan Peraturan Presiden Republik Indonesia Nomor 23 Tahun 2014 pada tanggal 1 April 2014\n",
            "\n",
            "\n",
            "\u001b[1mJURUSAN TEKNIK ELEKTRO, MEKATRONIKA, DAN INFORMASI\u001b[0m\n",
            "Jurusan Teknik Elektro, mekatronika, dan Informasi terdiri atas tiga program studi, antara lain:\n",
            "1. S1 Teknik Elektro \u001b[3m(Bachelor of Electrical Engineering)\u001b[0m\n",
            "2. S1 Reknologi Informasi \u001b[3m(Bachelor of Information Technology)\u001b[0m\n",
            "3. S1 Teknik Mekatronika \u001b[3m(Bachelor of Mechatronics Engineering)\u001b[0m\n"
          ]
        }
      ]
    }
  ]
}